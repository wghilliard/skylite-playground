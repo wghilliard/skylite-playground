{
 "cells": [
  {
   "cell_type": "markdown",
   "metadata": {},
   "source": [
    "# clustering\n",
    "\n",
    "because ultimately we're trying to pick out color clusters, right?"
   ]
  },
  {
   "cell_type": "code",
   "execution_count": 315,
   "metadata": {},
   "outputs": [],
   "source": [
    "from PIL import Image\n",
    "import numpy as np\n",
    "import pandas as pd"
   ]
  },
  {
   "cell_type": "code",
   "execution_count": 316,
   "metadata": {},
   "outputs": [],
   "source": [
    "sunset = Image.open('./data/training/sunset_1.jpg')\n",
    "sampled_image = np.array(sunset.resize((100, 75))).reshape((7500, 3))"
   ]
  },
  {
   "cell_type": "code",
   "execution_count": 317,
   "metadata": {},
   "outputs": [],
   "source": [
    "from sklearn.cluster import DBSCAN, OPTICS"
   ]
  },
  {
   "cell_type": "code",
   "execution_count": 318,
   "metadata": {},
   "outputs": [],
   "source": [
    "from matplotlib import pyplot as plt"
   ]
  },
  {
   "cell_type": "code",
   "execution_count": 319,
   "metadata": {
    "scrolled": false
   },
   "outputs": [
    {
     "data": {
      "text/plain": [
       "(7500, 3)"
      ]
     },
     "execution_count": 319,
     "metadata": {},
     "output_type": "execute_result"
    }
   ],
   "source": [
    "sampled_image.shape"
   ]
  },
  {
   "cell_type": "markdown",
   "metadata": {},
   "source": [
    "### DBSCAN and OPTICS\n",
    "\n",
    "i do both together because they have the same interface"
   ]
  },
  {
   "cell_type": "code",
   "execution_count": 320,
   "metadata": {},
   "outputs": [],
   "source": [
    "with np.errstate(divide='ignore'):\n",
    "    op = OPTICS(min_samples=20).fit(sampled_image)\n",
    "    db = DBSCAN(min_samples=5, eps=.25).fit(sampled_image)"
   ]
  },
  {
   "cell_type": "code",
   "execution_count": 321,
   "metadata": {},
   "outputs": [],
   "source": [
    "op_labels = op.labels_\n",
    "db_labels = db.labels_\n",
    "n_op_clusters = len(np.unique(op_labels))\n",
    "n_db_clusters = len(np.unique(db_labels))"
   ]
  },
  {
   "cell_type": "code",
   "execution_count": 322,
   "metadata": {},
   "outputs": [],
   "source": [
    "op_unique, op_counts = np.unique(op_labels, return_counts=True)\n",
    "db_unique, db_counts = np.unique(db_labels, return_counts=True)"
   ]
  },
  {
   "cell_type": "code",
   "execution_count": 323,
   "metadata": {},
   "outputs": [],
   "source": [
    "op_unique_counts = list(zip(op_counts, op_unique))\n",
    "db_unique_counts = list(zip(db_counts, db_unique))"
   ]
  },
  {
   "cell_type": "code",
   "execution_count": 337,
   "metadata": {},
   "outputs": [
    {
     "name": "stdout",
     "output_type": "stream",
     "text": [
      "OP: [(5922, -1), (31, 0), (42, 1), (31, 2), (23, 3)]\n",
      "DB: [(7467, -1), (6, 0), (5, 1), (6, 2), (5, 3)]\n"
     ]
    }
   ],
   "source": [
    "print(f'OP: {op_unique_counts[:5]}')\n",
    "print(f'DB: {db_unique_counts[:5]}')"
   ]
  },
  {
   "cell_type": "markdown",
   "metadata": {},
   "source": [
    "ultimately DBSCAN just puts too many things in the -1 cluster for it to be usable\n",
    "\n",
    "OPTICS puts a lot in there too but it at least seems like it can be tuned"
   ]
  },
  {
   "cell_type": "code",
   "execution_count": 334,
   "metadata": {},
   "outputs": [],
   "source": [
    "top_op_labels = [x[1] for x in sorted(op_unique_counts, reverse=True)[0:10]]\n",
    "top_db_labels = [x[1] for x in sorted(db_unique_counts, reverse=True)[0:10]]"
   ]
  },
  {
   "cell_type": "code",
   "execution_count": 325,
   "metadata": {},
   "outputs": [],
   "source": [
    "df = pd.DataFrame(sampled_image)\n",
    "df.columns = ['R', 'G', 'B']\n",
    "df['OP'] = op_labels\n",
    "df['DB'] = db_labels"
   ]
  },
  {
   "cell_type": "code",
   "execution_count": 326,
   "metadata": {},
   "outputs": [
    {
     "data": {
      "image/png": "[encoded data removed]",
      "text/plain": [
       "<Figure size 432x288 with 4 Axes>"
      ]
     },
     "metadata": {
      "needs_background": "light"
     },
     "output_type": "display_data"
    }
   ],
   "source": [
    "df[['R', 'G', 'B']].hist(bins=10)\n",
    "plt.show()"
   ]
  },
  {
   "cell_type": "code",
   "execution_count": 327,
   "metadata": {},
   "outputs": [],
   "source": [
    "op_df = df.groupby(['OP']).filter(lambda x: len(x) < 1000)"
   ]
  },
  {
   "cell_type": "code",
   "execution_count": 328,
   "metadata": {},
   "outputs": [],
   "source": [
    "op_avg = pd.DataFrame([op_df[op_df.OP == x].describe().loc['mean'] for x in top_op_labels])"
   ]
  },
  {
   "cell_type": "code",
   "execution_count": 329,
   "metadata": {},
   "outputs": [
    {
     "data": {
      "image/png": "[encoded data removed]",
      "text/plain": [
       "<Figure size 432x288 with 4 Axes>"
      ]
     },
     "metadata": {
      "needs_background": "light"
     },
     "output_type": "display_data"
    }
   ],
   "source": [
    "op_avg[['R', 'G', 'B']].hist(bins=10)\n",
    "plt.show()"
   ]
  },
  {
   "cell_type": "markdown",
   "metadata": {},
   "source": [
    "interestingly, the average distributions are pretty similar to the original distributions"
   ]
  }
 ],
 "metadata": {
  "kernelspec": {
   "display_name": "Python 3",
   "language": "python",
   "name": "python3"
  },
  "language_info": {
   "codemirror_mode": {
    "name": "ipython",
    "version": 3
   },
   "file_extension": ".py",
   "mimetype": "text/x-python",
   "name": "python",
   "nbconvert_exporter": "python",
   "pygments_lexer": "ipython3",
   "version": "3.8.1"
  }
 },
 "nbformat": 4,
 "nbformat_minor": 4
}
